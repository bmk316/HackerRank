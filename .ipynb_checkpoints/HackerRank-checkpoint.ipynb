{
 "cells": [
  {
   "cell_type": "markdown",
   "metadata": {},
   "source": [
    "## HackerRank - 30 Days of Code"
   ]
  },
  {
   "cell_type": "markdown",
   "metadata": {},
   "source": [
    "### Day 5"
   ]
  },
  {
   "cell_type": "code",
   "execution_count": null,
   "metadata": {},
   "outputs": [],
   "source": [
    "#!/bin/python3\n",
    "\n",
    "import math\n",
    "import os\n",
    "import random\n",
    "import re\n",
    "import sys\n",
    "\n",
    "\n",
    "\n",
    "if __name__ == '__main__':\n",
    "    n = int(input())\n",
    "for i in range(1,11):\n",
    "    print(n, \"x\", i, '=', n*i)"
   ]
  },
  {
   "cell_type": "markdown",
   "metadata": {},
   "source": [
    "### Day 6"
   ]
  },
  {
   "cell_type": "code",
   "execution_count": 8,
   "metadata": {},
   "outputs": [
    {
     "name": "stdout",
     "output_type": "stream",
     "text": [
      "2\n",
      "hacker\n",
      "hce akr\n",
      "hijack\n",
      "hjc iak\n"
     ]
    }
   ],
   "source": [
    "# Enter your code here. Read input from STDIN. Print output to STDOUT\n",
    "T = int(input())\n",
    "for i in range(T):\n",
    "    S = input()\n",
    "    even = ''\n",
    "    odd = ''\n",
    "\n",
    "    for j in range(len(S)):\n",
    "        if j%2 == 0:\n",
    "            even += S[j]\n",
    "        else:\n",
    "            odd += S[j]\n",
    "    \n",
    "    print('{} {}'.format(even, odd))"
   ]
  },
  {
   "cell_type": "markdown",
   "metadata": {},
   "source": [
    "### Day 7"
   ]
  },
  {
   "cell_type": "code",
   "execution_count": 26,
   "metadata": {},
   "outputs": [
    {
     "name": "stdout",
     "output_type": "stream",
     "text": [
      "3 4 5\n",
      "5 4 3\n"
     ]
    }
   ],
   "source": [
    "#!/bin/python3\n",
    "\n",
    "import math\n",
    "import os\n",
    "import random\n",
    "import re\n",
    "import sys\n",
    "\n",
    "\n",
    "\n",
    "if __name__ == '__main__':\n",
    "#     n = int(input())\n",
    "\n",
    "#     arr = list(map(int, input().rstrip().split()))\n",
    "    arr = [int(arr_temp) for arr_temp in input().strip().split(' ')]\n",
    "    \n",
    "    print (str(arr[::-1]).strip('[]').replace(\",\", \"\"))\n",
    "    \n",
    "    "
   ]
  },
  {
   "cell_type": "markdown",
   "metadata": {},
   "source": [
    "### Day 8"
   ]
  },
  {
   "cell_type": "code",
   "execution_count": 33,
   "metadata": {},
   "outputs": [
    {
     "name": "stdout",
     "output_type": "stream",
     "text": [
      "1\n",
      "blessen\n",
      "56789\n",
      "blessen\n",
      "blessen=56789\n"
     ]
    }
   ],
   "source": [
    "# Method 1 - uncomment lines 2 thru 19 \n",
    "\n",
    "# import sys\n",
    "\n",
    "# n = int(sys.stdin.readline().strip())\n",
    "\n",
    "# phone_book = dict()\n",
    "\n",
    "# for i in range(n):\n",
    "#     entry = sys.stdin.readline().strip().split(' ')\n",
    "#     phone_book[entry[0]] = entry[1]\n",
    "\n",
    "# query = sys.stdin.readline().strip()\n",
    "\n",
    "# while query:\n",
    "#     phone_number = phone_book.get(query)\n",
    "#     if phone_number:\n",
    "#         print(query + '=' + phone_number)\n",
    "#     else:\n",
    "#         print('Not found')\n",
    "#     query = sys.stdin.readline().strip()\n",
    "\n",
    "# Method 2 - uncomment lines 24 thru 35\n",
    "phone={}\n",
    "n=int(input())\n",
    "for i in range(0,n):\n",
    "    name=str(input())\n",
    "    phone[name]=str(input())\n",
    "for i in range(0,n):\n",
    "    name=str(input())\n",
    "    re=phone.get(name,\"none\")\n",
    "    if re!=\"none\":        \n",
    "        print(\"%s=%s\"%(name,re))\n",
    "    else:\n",
    "        print(\"Not found\")\n",
    "\n"
   ]
  },
  {
   "cell_type": "markdown",
   "metadata": {},
   "source": [
    "### Day 14"
   ]
  },
  {
   "cell_type": "code",
   "execution_count": null,
   "metadata": {},
   "outputs": [],
   "source": []
  }
 ],
 "metadata": {
  "kernelspec": {
   "display_name": "Python 3",
   "language": "python",
   "name": "python3"
  },
  "language_info": {
   "codemirror_mode": {
    "name": "ipython",
    "version": 3
   },
   "file_extension": ".py",
   "mimetype": "text/x-python",
   "name": "python",
   "nbconvert_exporter": "python",
   "pygments_lexer": "ipython3",
   "version": "3.8.3"
  }
 },
 "nbformat": 4,
 "nbformat_minor": 4
}
