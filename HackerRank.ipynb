{
 "cells": [
  {
   "cell_type": "markdown",
   "metadata": {},
   "source": [
    "## HackerRank - 30 Days of Code"
   ]
  },
  {
   "cell_type": "markdown",
   "metadata": {},
   "source": [
    "### Day 5"
   ]
  },
  {
   "cell_type": "code",
   "execution_count": null,
   "metadata": {},
   "outputs": [],
   "source": [
    "#!/bin/python3\n",
    "\n",
    "import math\n",
    "import os\n",
    "import random\n",
    "import re\n",
    "import sys\n",
    "\n",
    "\n",
    "\n",
    "if __name__ == '__main__':\n",
    "    n = int(input())\n",
    "for i in range(1,11):\n",
    "    print(n, \"x\", i, '=', n*i)"
   ]
  },
  {
   "cell_type": "markdown",
   "metadata": {},
   "source": [
    "### Day 6"
   ]
  },
  {
   "cell_type": "code",
   "execution_count": null,
   "metadata": {},
   "outputs": [],
   "source": [
    "# Enter your code here. Read input from STDIN. Print output to STDOUT\n",
    "T = int(input())\n",
    "for i in range(T):\n",
    "    S = input()\n",
    "    even = ''\n",
    "    odd = ''\n",
    "\n",
    "    for j in range(len(S)):\n",
    "        if j%2 == 0:\n",
    "            even += S[j]\n",
    "        else:\n",
    "            odd += S[j]\n",
    "    \n",
    "    print('{} {}'.format(even, odd))"
   ]
  },
  {
   "cell_type": "markdown",
   "metadata": {},
   "source": [
    "### Day 7"
   ]
  },
  {
   "cell_type": "code",
   "execution_count": null,
   "metadata": {},
   "outputs": [],
   "source": [
    "#!/bin/python3\n",
    "\n",
    "import math\n",
    "import os\n",
    "import random\n",
    "import re\n",
    "import sys\n",
    "\n",
    "\n",
    "\n",
    "if __name__ == '__main__':\n",
    "#     n = int(input())\n",
    "\n",
    "#     arr = list(map(int, input().rstrip().split()))\n",
    "    arr = [int(arr_temp) for arr_temp in input().strip().split(' ')]\n",
    "    \n",
    "    print (str(arr[::-1]).strip('[]').replace(\",\", \"\"))\n",
    "    \n",
    "    "
   ]
  },
  {
   "cell_type": "markdown",
   "metadata": {},
   "source": [
    "### Day 8"
   ]
  },
  {
   "cell_type": "code",
   "execution_count": null,
   "metadata": {},
   "outputs": [],
   "source": [
    "# Method 1 - uncomment lines 2 thru 19 \n",
    "\n",
    "# import sys\n",
    "\n",
    "# n = int(sys.stdin.readline().strip())\n",
    "\n",
    "# phone_book = dict()\n",
    "\n",
    "# for i in range(n):\n",
    "#     entry = sys.stdin.readline().strip().split(' ')\n",
    "#     phone_book[entry[0]] = entry[1]\n",
    "\n",
    "# query = sys.stdin.readline().strip()\n",
    "\n",
    "# while query:\n",
    "#     phone_number = phone_book.get(query)\n",
    "#     if phone_number:\n",
    "#         print(query + '=' + phone_number)\n",
    "#     else:\n",
    "#         print('Not found')\n",
    "#     query = sys.stdin.readline().strip()\n",
    "\n",
    "# Method 2 - uncomment lines 24 thru 35\n",
    "phone={}\n",
    "n=int(input())\n",
    "for i in range(0,n):\n",
    "    name=str(input())\n",
    "    phone[name]=str(input())\n",
    "for i in range(0,n):\n",
    "    name=str(input())\n",
    "    re=phone.get(name,\"none\")\n",
    "    if re!=\"none\":        \n",
    "        print(\"%s=%s\"%(name,re))\n",
    "    else:\n",
    "        print(\"Not found\")\n",
    "\n"
   ]
  },
  {
   "cell_type": "markdown",
   "metadata": {},
   "source": [
    "### Day 9"
   ]
  },
  {
   "cell_type": "code",
   "execution_count": null,
   "metadata": {},
   "outputs": [],
   "source": [
    "#!/bin/python3\n",
    "\n",
    "import math\n",
    "import os\n",
    "import random\n",
    "import re\n",
    "import sys\n",
    "\n",
    "# Complete the factorial function below.\n",
    "def factorial(n):\n",
    "    \n",
    "    if n<=1:\n",
    "        return 1\n",
    "    else:\n",
    "            return n*factorial(n-1)\n",
    "\n",
    "if __name__ == '__main__':\n",
    "    fptr = open(os.environ['OUTPUT_PATH'], 'w')\n",
    "\n",
    "    n = int(input())\n",
    "\n",
    "    result = factorial(n)\n",
    "\n",
    "    fptr.write(str(result) + '\\n')\n",
    "\n",
    "    fptr.close()\n"
   ]
  },
  {
   "cell_type": "markdown",
   "metadata": {},
   "source": [
    "### Day 10"
   ]
  },
  {
   "cell_type": "code",
   "execution_count": null,
   "metadata": {},
   "outputs": [],
   "source": [
    "#!/bin/python3\n",
    "import sys\n",
    "\n",
    "def _get_hourglass_sum(matrix, row, col):\n",
    "    sum = 0\n",
    "    sum += matrix[row-1][col-1]\n",
    "    sum += matrix[row-1][col]\n",
    "    sum += matrix[row-1][col+1]\n",
    "    sum += matrix[row][col]\n",
    "    sum += matrix[row+1][col-1]\n",
    "    sum += matrix[row+1][col]\n",
    "    sum += matrix[row+1][col+1]\n",
    "    return sum\n",
    "     \n",
    "arr = []\n",
    "for i in range(6):\n",
    "    arr_t  = [int(arr_temp) for arr_temp in input().strip().split(' ')]\n",
    "    arr.append(arrb_t)\n",
    "\n",
    "max_hourglass_sum = -63       \n",
    "for i in range(1,5):\n",
    "    for j in range(1,5):\n",
    "            curr_hourglass_sum = _get_hourglass_sum(arr, i , j)\n",
    "            if curr_hourglass_sum > max_hourglass_sum:\n",
    "                max_hourglass_sum = curr_hourglass_sum\n",
    "                \n",
    "print(max_hourglass_sum)"
   ]
  },
  {
   "cell_type": "markdown",
   "metadata": {},
   "source": [
    "### Day 11"
   ]
  },
  {
   "cell_type": "code",
   "execution_count": null,
   "metadata": {},
   "outputs": [],
   "source": [
    "#!/bin/python3\n",
    "\n",
    "\n",
    "import sys\n",
    "\n",
    "\n",
    "def _get_hourglass_sum(matrix, row, col):\n",
    "    sum = 0\n",
    "    sum += matrix[row-1][col-1]\n",
    "    sum += matrix[row-1][col]\n",
    "    sum += matrix[row-1][col+1]\n",
    "    sum += matrix[row][col]\n",
    "    sum += matrix[row+1][col-1]\n",
    "    sum += matrix[row+1][col]\n",
    "    sum += matrix[row+1][col+1]\n",
    "    return sum\n",
    "     \n",
    "arr = []\n",
    "for i in range(6):\n",
    "    arr_t   = [int(arr_temp) for arr_temp in input().strip().split(' ')]\n",
    "    arr.append(arr_t)\n",
    "\n",
    "max_hourglass_sum = -63       \n",
    "for i in range(1,5):\n",
    "    for j in range(1,5):\n",
    "            curr_hourglass_sum = _get_hourglass_sum(arr, i , j)\n",
    "            if curr_hourglass_sum > max_hourglass_sum:\n",
    "                max_hourglass_sum = curr_hourglass_sum\n",
    "                \n",
    "print(max_hourglass_sum)"
   ]
  },
  {
   "cell_type": "markdown",
   "metadata": {},
   "source": [
    "### Day 12"
   ]
  },
  {
   "cell_type": "code",
   "execution_count": null,
   "metadata": {},
   "outputs": [],
   "source": [
    "class Person:\n",
    "    def __init__(self, firstName, lastName, idNumber):\n",
    "        self.firstName = firstName\n",
    "        self.lastName = lastName\n",
    "        self.idNumber = idNumber\n",
    "    def printPerson(self):\n",
    "        print(\"Name:\", self.lastName + \",\", self.firstName)\n",
    "        print(\"ID:\", self.idNumber)\n",
    "\n",
    "class Student(Person):\n",
    "    #   Class Constructor\n",
    "    #   \n",
    "    #   Parameters:\n",
    "    #   firstName - A string denoting the Person's first name.\n",
    "    #   lastName - A string denoting the Person's last name.\n",
    "    #   id - An integer denoting the Person's ID number.\n",
    "    #   scores - An array of integers denoting the Person's test scores.\n",
    " \n",
    "    def __init__(self, firstName, lastName, idNumber, scores):\n",
    "        Person.__init__(self,firstName, lastName,idNumber)\n",
    "        self.scores = scores\n",
    "\n",
    "    #   Function Name: calculate\n",
    "    #   Return: A character denoting the grade.\n",
    "    #\n",
    "    # Write your function here\n",
    "    def calculate(self):\n",
    "        sum = 0\n",
    "        for score in scores:\n",
    "            sum += score\n",
    "        average = sum/(len(scores))\n",
    "        if average < 40:\n",
    "            return 'T'\n",
    "        elif average < 55:\n",
    "            return 'D'\n",
    "        elif average < 70:\n",
    "            return 'P'\n",
    "        elif average < 80:\n",
    "            return 'A'\n",
    "        elif average < 90:\n",
    "            return 'E'\n",
    "        else:\n",
    "            return 'O'\n",
    "\n",
    "line = input().split()\n",
    "firstName = line[0]\n",
    "lastName = line[1]\n",
    "idNum = line[2]\n",
    "# numScores = int(input()) # not needed for Python\n",
    "scores = list( map(int, input().split()) )\n",
    "s = Student(firstName, lastName, idNum, scores)\n",
    "s.printPerson()\n",
    "print(\"Grade:\", s.calculate())"
   ]
  },
  {
   "cell_type": "markdown",
   "metadata": {},
   "source": [
    "### Day 13 - Abstract classes"
   ]
  },
  {
   "cell_type": "code",
   "execution_count": null,
   "metadata": {},
   "outputs": [],
   "source": [
    "from abc import ABCMeta, abstractmethod\n",
    "class Book(object, metaclass=ABCMeta):\n",
    "    def __init__(self,title,author):\n",
    "        self.title=title\n",
    "        self.author=author   \n",
    "    @abstractmethod\n",
    "    def display(): pass\n",
    "    \n",
    "#Write MyBook class\n",
    "class MyBook(Book):\n",
    "    def __init__(self,title,author,price):\n",
    "        Book.__init__(self, title,author)\n",
    "        self.price = price\n",
    "    \n",
    "    def display(self):\n",
    "        print(\"Title:\", self.title)\n",
    "        print(\"Author:\", self.author)\n",
    "        print(\"Price:\", str(self.price))\n",
    "    \n",
    "title=input()\n",
    "author=input()\n",
    "price=int(input())\n",
    "new_novel=MyBook(title,author,price)\n",
    "new_novel.display()"
   ]
  },
  {
   "cell_type": "markdown",
   "metadata": {},
   "source": [
    "### Day 14"
   ]
  },
  {
   "cell_type": "code",
   "execution_count": null,
   "metadata": {},
   "outputs": [],
   "source": [
    "class Difference:\n",
    "    def __init__(self, a):\n",
    "        self.__elements = a\n",
    "        self.maximumDifference = 0\n",
    "    \n",
    "    def computeDifference(self):\n",
    "        min_element = 101\n",
    "        max_element = 0\n",
    "        for element in self.__elements:\n",
    "            if element < min_element:\n",
    "                min_element = element\n",
    "            if element > max_element:\n",
    "                max_element = element\n",
    "        self.maximumDifference = max_element - min_element       \n",
    "        \n",
    "    \n",
    "# End of Difference class\n",
    "\n",
    "_ = input()\n",
    "a = [int(e) for e in input().split(' ')]\n",
    "\n",
    "d = Difference(a)\n",
    "d.computeDifference()\n",
    "\n",
    "print(d.maximumDifference)"
   ]
  },
  {
   "cell_type": "markdown",
   "metadata": {},
   "source": [
    "### Day 15"
   ]
  },
  {
   "cell_type": "code",
   "execution_count": null,
   "metadata": {},
   "outputs": [],
   "source": [
    "class Node:\n",
    "    def __init__(self,data):\n",
    "        self.data = data\n",
    "        self.next = None\n",
    "class Solution:\n",
    "    def display(self, head):\n",
    "        current = head\n",
    "        while current:\n",
    "            print(current.data, end=' ')\n",
    "            current = current.next\n",
    "            \n",
    "            \n",
    "myList = Solution()\n",
    "T = int(input())\n",
    "for in range(T):\n",
    "    data = int(input())\n",
    "    head = myList.insert(head,data)\n",
    "myList.display(head)"
   ]
  },
  {
   "cell_type": "markdown",
   "metadata": {},
   "source": [
    "### LinkedList learning"
   ]
  },
  {
   "cell_type": "code",
   "execution_count": null,
   "metadata": {},
   "outputs": [],
   "source": [
    "# Create nodes\n",
    "# Create linked list\n",
    "# Add nodes to linked list\n",
    "# Print linked list"
   ]
  },
  {
   "cell_type": "code",
   "execution_count": 5,
   "metadata": {},
   "outputs": [
    {
     "name": "stdout",
     "output_type": "stream",
     "text": [
      "John\n",
      "Ben\n",
      "Matthew\n"
     ]
    }
   ],
   "source": [
    "class Node:\n",
    "    def __init__(self,data):\n",
    "        self.data = data\n",
    "        self.next = None\n",
    "        \n",
    "class LinkedList:\n",
    "    def __init__(self):\n",
    "        self.head = None\n",
    "        \n",
    "    def insert(self, newNode):\n",
    "        #here, head -->John --> None\n",
    "        if self.head is None:\n",
    "            self.head = newNode\n",
    "        else:\n",
    "            #self.head.next = newNode\n",
    "            #head --> John --> Ben --> None \\\\ John --> Matthew (which is not ideal)      \n",
    "            lastNode = self.head #(start traversal from the first node when inserting a new node)\n",
    "            while True:\n",
    "                if lastNode.next is None:\n",
    "                    break\n",
    "                lastNode = lastNode.next\n",
    "            lastNode.next = newNode\n",
    "            \n",
    "    def printList(self):\n",
    "        currentNode = self.head\n",
    "        while True:\n",
    "            if currentNode is None:\n",
    "                break \n",
    "            print(currentNode.data)\n",
    "            currentNode = currentNode.next\n",
    "\n",
    "# Create nodes - Data field, Next field\n",
    "#first node is Matt, the Next field will point to none\n",
    "\n",
    "firstNode = Node('John')\n",
    "linkedList = LinkedList()\n",
    "linkedList.insert(firstNode)\n",
    "secondNode = Node('Ben')\n",
    "linkedList.insert(secondNode)\n",
    "thirdNode = Node('Matthew')\n",
    "linkedList.insert(thirdNode)\n",
    "linkedList.printList()"
   ]
  },
  {
   "cell_type": "markdown",
   "metadata": {},
   "source": [
    "### Day 16"
   ]
  },
  {
   "cell_type": "code",
   "execution_count": null,
   "metadata": {},
   "outputs": [],
   "source": [
    "#!/bin/python3\n",
    "\n",
    "import sys\n",
    "\n",
    "\n",
    "S = input().strip()\n",
    "\n",
    "try:\n",
    "    print(int(S))\n",
    "except ValueError:\n",
    "    print(\"Bad String\")\n",
    "    "
   ]
  },
  {
   "cell_type": "markdown",
   "metadata": {},
   "source": [
    "### Day 17"
   ]
  },
  {
   "cell_type": "code",
   "execution_count": 1,
   "metadata": {},
   "outputs": [
    {
     "name": "stdout",
     "output_type": "stream",
     "text": [
      "1\n",
      "2 3\n",
      "8\n"
     ]
    }
   ],
   "source": [
    "class Calculator:\n",
    "    def power(self, n, p):\n",
    "        if n < 0 or p < 0:\n",
    "            raise Exception(\"n and p should be non-negative\")\n",
    "        else:\n",
    "            return pow(n, p)\n",
    "\n",
    "myCalculator=Calculator()\n",
    "T=int(input())\n",
    "for i in range(T):\n",
    "    n,p = map(int, input().split())\n",
    "    try:\n",
    "        ans=myCalculator.power(n,p)\n",
    "        print(ans)\n",
    "    except Exception as e:\n",
    "        print(e)"
   ]
  },
  {
   "cell_type": "markdown",
   "metadata": {},
   "source": [
    "### Day 18"
   ]
  },
  {
   "cell_type": "code",
   "execution_count": null,
   "metadata": {},
   "outputs": [],
   "source": [
    "# racecar || queue\n",
    "#1.acecar\n",
    "#2.cecar\n",
    "#3.ecar\n",
    "#racecar || stack\n",
    "#1.raceca\n",
    "#2.racec\n",
    "#3. race\n",
    "#1,2,3 must be equal or pop and dequeue operations must be equal\n",
    "\n",
    "import sys\n",
    "from collections import deque\n",
    "class Solution:\n",
    "    \n",
    "    def __init__(self):\n",
    "        self.stack = list()\n",
    "        self.queue = deque()\n",
    "    \n",
    "    def pushCharacter(self, character):\n",
    "        self.stack.append(character)\n",
    "        \n",
    "    def enqueueCharacter(self,character):\n",
    "        self.queue.append(character)\n",
    "        \n",
    "    def popCharacter(self):\n",
    "        return self.stack.pop()\n",
    "    \n",
    "    def dequeueCharacter(self):\n",
    "        return self.queue.popleft()\n",
    "        \n",
    "        \n",
    "    # Write your code here\n",
    "\n",
    "# read the string s\n",
    "s=input()\n",
    "#Create the Solution class object\n",
    "obj=Solution()   \n",
    "\n",
    "l=len(s)\n",
    "# push/enqueue all the characters of string s to stack\n",
    "for i in range(l):\n",
    "    obj.pushCharacter(s[i])\n",
    "    obj.enqueueCharacter(s[i])\n",
    "    \n",
    "isPalindrome=True\n",
    "'''\n",
    "pop the top character from stack\n",
    "dequeue the first character from queue\n",
    "compare both the characters\n",
    "''' \n",
    "for i in range(l // 2):\n",
    "    if obj.popCharacter()!=obj.dequeueCharacter():\n",
    "        isPalindrome=False\n",
    "        break\n",
    "#finally print whether string s is palindrome or not.\n",
    "if isPalindrome:\n",
    "    print(\"The word, \"+s+\", is a palindrome.\")\n",
    "else:\n",
    "    print(\"The word, \"+s+\", is not a palindrome.\")   \n",
    "\n"
   ]
  }
 ],
 "metadata": {
  "kernelspec": {
   "display_name": "Python 3",
   "language": "python",
   "name": "python3"
  },
  "language_info": {
   "codemirror_mode": {
    "name": "ipython",
    "version": 3
   },
   "file_extension": ".py",
   "mimetype": "text/x-python",
   "name": "python",
   "nbconvert_exporter": "python",
   "pygments_lexer": "ipython3",
   "version": "3.8.3"
  }
 },
 "nbformat": 4,
 "nbformat_minor": 4
}
