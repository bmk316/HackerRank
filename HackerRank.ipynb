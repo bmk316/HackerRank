{
 "cells": [
  {
   "cell_type": "markdown",
   "metadata": {},
   "source": [
    "## HackerRank - 30 Days of Code"
   ]
  },
  {
   "cell_type": "markdown",
   "metadata": {},
   "source": [
    "### Day 5"
   ]
  },
  {
   "cell_type": "code",
   "execution_count": null,
   "metadata": {},
   "outputs": [],
   "source": [
    "#!/bin/python3\n",
    "\n",
    "import math\n",
    "import os\n",
    "import random\n",
    "import re\n",
    "import sys\n",
    "\n",
    "\n",
    "\n",
    "if __name__ == '__main__':\n",
    "    n = int(input())\n",
    "for i in range(1,11):\n",
    "    print(n, \"x\", i, '=', n*i)"
   ]
  },
  {
   "cell_type": "markdown",
   "metadata": {},
   "source": [
    "### Day 6"
   ]
  },
  {
   "cell_type": "code",
   "execution_count": null,
   "metadata": {},
   "outputs": [],
   "source": [
    "# Enter your code here. Read input from STDIN. Print output to STDOUT\n",
    "T = int(input())\n",
    "for i in range(T):\n",
    "    S = input()\n",
    "    even = ''\n",
    "    odd = ''\n",
    "\n",
    "    for j in range(len(S)):\n",
    "        if j%2 == 0:\n",
    "            even += S[j]\n",
    "        else:\n",
    "            odd += S[j]\n",
    "    \n",
    "    print('{} {}'.format(even, odd))"
   ]
  },
  {
   "cell_type": "markdown",
   "metadata": {},
   "source": [
    "### Day 7"
   ]
  },
  {
   "cell_type": "code",
   "execution_count": null,
   "metadata": {},
   "outputs": [],
   "source": [
    "#!/bin/python3\n",
    "\n",
    "import math\n",
    "import os\n",
    "import random\n",
    "import re\n",
    "import sys\n",
    "\n",
    "\n",
    "\n",
    "if __name__ == '__main__':\n",
    "#     n = int(input())\n",
    "\n",
    "#     arr = list(map(int, input().rstrip().split()))\n",
    "    arr = [int(arr_temp) for arr_temp in input().strip().split(' ')]\n",
    "    \n",
    "    print (str(arr[::-1]).strip('[]').replace(\",\", \"\"))\n",
    "    \n",
    "    "
   ]
  },
  {
   "cell_type": "markdown",
   "metadata": {},
   "source": [
    "### Day 8"
   ]
  },
  {
   "cell_type": "code",
   "execution_count": null,
   "metadata": {},
   "outputs": [],
   "source": [
    "# Method 1 - uncomment lines 2 thru 19 \n",
    "\n",
    "# import sys\n",
    "\n",
    "# n = int(sys.stdin.readline().strip())\n",
    "\n",
    "# phone_book = dict()\n",
    "\n",
    "# for i in range(n):\n",
    "#     entry = sys.stdin.readline().strip().split(' ')\n",
    "#     phone_book[entry[0]] = entry[1]\n",
    "\n",
    "# query = sys.stdin.readline().strip()\n",
    "\n",
    "# while query:\n",
    "#     phone_number = phone_book.get(query)\n",
    "#     if phone_number:\n",
    "#         print(query + '=' + phone_number)\n",
    "#     else:\n",
    "#         print('Not found')\n",
    "#     query = sys.stdin.readline().strip()\n",
    "\n",
    "# Method 2 - uncomment lines 24 thru 35\n",
    "phone={}\n",
    "n=int(input())\n",
    "for i in range(0,n):\n",
    "    name=str(input())\n",
    "    phone[name]=str(input())\n",
    "for i in range(0,n):\n",
    "    name=str(input())\n",
    "    re=phone.get(name,\"none\")\n",
    "    if re!=\"none\":        \n",
    "        print(\"%s=%s\"%(name,re))\n",
    "    else:\n",
    "        print(\"Not found\")\n",
    "\n"
   ]
  },
  {
   "cell_type": "markdown",
   "metadata": {},
   "source": [
    "### Day 9"
   ]
  },
  {
   "cell_type": "code",
   "execution_count": null,
   "metadata": {},
   "outputs": [],
   "source": [
    "#!/bin/python3\n",
    "\n",
    "import math\n",
    "import os\n",
    "import random\n",
    "import re\n",
    "import sys\n",
    "\n",
    "# Complete the factorial function below.\n",
    "def factorial(n):\n",
    "    \n",
    "    if n<=1:\n",
    "        return 1\n",
    "    else:\n",
    "            return n*factorial(n-1)\n",
    "\n",
    "if __name__ == '__main__':\n",
    "    fptr = open(os.environ['OUTPUT_PATH'], 'w')\n",
    "\n",
    "    n = int(input())\n",
    "\n",
    "    result = factorial(n)\n",
    "\n",
    "    fptr.write(str(result) + '\\n')\n",
    "\n",
    "    fptr.close()\n"
   ]
  },
  {
   "cell_type": "markdown",
   "metadata": {},
   "source": [
    "### Day 10"
   ]
  },
  {
   "cell_type": "code",
   "execution_count": null,
   "metadata": {},
   "outputs": [],
   "source": [
    "#!/bin/python3\n",
    "import sys\n",
    "\n",
    "def _get_hourglass_sum(matrix, row, col):\n",
    "    sum = 0\n",
    "    sum += matrix[row-1][col-1]\n",
    "    sum += matrix[row-1][col]\n",
    "    sum += matrix[row-1][col+1]\n",
    "    sum += matrix[row][col]\n",
    "    sum += matrix[row+1][col-1]\n",
    "    sum += matrix[row+1][col]\n",
    "    sum += matrix[row+1][col+1]\n",
    "    return sum\n",
    "     \n",
    "arr = []\n",
    "for i in range(6):\n",
    "    arr_t  = [int(arr_temp) for arr_temp in input().strip().split(' ')]\n",
    "    arr.append(arrb_t)\n",
    "\n",
    "max_hourglass_sum = -63       \n",
    "for i in range(1,5):\n",
    "    for j in range(1,5):\n",
    "            curr_hourglass_sum = _get_hourglass_sum(arr, i , j)\n",
    "            if curr_hourglass_sum > max_hourglass_sum:\n",
    "                max_hourglass_sum = curr_hourglass_sum\n",
    "                \n",
    "print(max_hourglass_sum)"
   ]
  },
  {
   "cell_type": "markdown",
   "metadata": {},
   "source": [
    "### Day 11"
   ]
  },
  {
   "cell_type": "code",
   "execution_count": null,
   "metadata": {},
   "outputs": [],
   "source": [
    "#!/bin/python3\n",
    "\n",
    "\n",
    "import sys\n",
    "\n",
    "\n",
    "def _get_hourglass_sum(matrix, row, col):\n",
    "    sum = 0\n",
    "    sum += matrix[row-1][col-1]\n",
    "    sum += matrix[row-1][col]\n",
    "    sum += matrix[row-1][col+1]\n",
    "    sum += matrix[row][col]\n",
    "    sum += matrix[row+1][col-1]\n",
    "    sum += matrix[row+1][col]\n",
    "    sum += matrix[row+1][col+1]\n",
    "    return sum\n",
    "     \n",
    "arr = []\n",
    "for i in range(6):\n",
    "    arr_t   = [int(arr_temp) for arr_temp in input().strip().split(' ')]\n",
    "    arr.append(arr_t)\n",
    "\n",
    "max_hourglass_sum = -63       \n",
    "for i in range(1,5):\n",
    "    for j in range(1,5):\n",
    "            curr_hourglass_sum = _get_hourglass_sum(arr, i , j)\n",
    "            if curr_hourglass_sum > max_hourglass_sum:\n",
    "                max_hourglass_sum = curr_hourglass_sum\n",
    "                \n",
    "print(max_hourglass_sum)"
   ]
  },
  {
   "cell_type": "markdown",
   "metadata": {},
   "source": [
    "### Day 12"
   ]
  },
  {
   "cell_type": "code",
   "execution_count": null,
   "metadata": {},
   "outputs": [],
   "source": [
    "class Person:\n",
    "\tdef __init__(self, firstName, lastName, idNumber):\n",
    "\t\tself.firstName = firstName\n",
    "\t\tself.lastName = lastName\n",
    "\t\tself.idNumber = idNumber\n",
    "\tdef printPerson(self):\n",
    "\t\tprint(\"Name:\", self.lastName + \",\", self.firstName)\n",
    "\t\tprint(\"ID:\", self.idNumber)\n",
    "\n",
    "class Student(Person):\n",
    "    #   Class Constructor\n",
    "    #   \n",
    "    #   Parameters:\n",
    "    #   firstName - A string denoting the Person's first name.\n",
    "    #   lastName - A string denoting the Person's last name.\n",
    "    #   id - An integer denoting the Person's ID number.\n",
    "    #   scores - An array of integers denoting the Person's test scores.\n",
    "    #\n",
    "    # Write your constructor here\n",
    "    def __init__(self, firstName, lastName, idNumber, scores):\n",
    "        Person.__init__(self,firstName, lastName,idNumber)\n",
    "        self.scores = scores\n",
    "\n",
    "    #   Function Name: calculate\n",
    "    #   Return: A character denoting the grade.\n",
    "    #\n",
    "    # Write your function here\n",
    "    def calculate(self):\n",
    "        sum = 0\n",
    "        for score in scores:\n",
    "            sum += score\n",
    "        average = sum/(len(scores))\n",
    "        if average < 40:\n",
    "            return 'T'\n",
    "        elif average < 55:\n",
    "            return 'D'\n",
    "        elif average < 70:\n",
    "            return 'P'\n",
    "        elif average < 80:\n",
    "            return 'A'\n",
    "        elif average < 90:\n",
    "            return 'E'\n",
    "        else:\n",
    "            return 'O'\n",
    "\n",
    "line = input().split()\n",
    "firstName = line[0]\n",
    "lastName = line[1]\n",
    "idNum = line[2]\n",
    "numScores = int(input()) # not needed for Python\n",
    "scores = list( map(int, input().split()) )\n",
    "s = Student(firstName, lastName, idNum, scores)\n",
    "s.printPerson()\n",
    "print(\"Grade:\", s.calculate())"
   ]
  },
  {
   "cell_type": "code",
   "execution_count": null,
   "metadata": {},
   "outputs": [],
   "source": []
  }
 ],
 "metadata": {
  "kernelspec": {
   "display_name": "Python 3",
   "language": "python",
   "name": "python3"
  },
  "language_info": {
   "codemirror_mode": {
    "name": "ipython",
    "version": 3
   },
   "file_extension": ".py",
   "mimetype": "text/x-python",
   "name": "python",
   "nbconvert_exporter": "python",
   "pygments_lexer": "ipython3",
   "version": "3.8.3"
  }
 },
 "nbformat": 4,
 "nbformat_minor": 4
}
